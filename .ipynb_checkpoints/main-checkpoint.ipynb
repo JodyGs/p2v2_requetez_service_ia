{
 "cells": [
  {
   "cell_type": "code",
   "execution_count": 6,
   "id": "aca18f7f-c74d-48b8-851f-f707f4245a2d",
   "metadata": {},
   "outputs": [
    {
     "name": "stdout",
     "output_type": "stream",
     "text": [
      "{'role': 'assistant', 'content': 'Alright, let\\'s tackle the problem: **How many \\'G\\'s are in the word \\'huggingface\\'?**\\n\\n### Understanding the Problem\\nFirst, I need to determine how many times the letter \\'G\\' (both uppercase and lowercase, though in this case, the word is all lowercase) appears in the string \"huggingface\". \\n\\n### Breaking Down the Word\\nLet\\'s write out the word and look at each letter one by one:\\n\\nThe word is: h u g g i n g f a c e\\n\\nNow, let\\'s list the positions and the letters:\\n\\n1. h\\n2. u\\n3. g\\n4. g\\n5. i\\n6. n\\n7. g\\n8. f\\n9. a\\n10. c\\n11. e\\n\\n### Counting the \\'G\\'s\\nNow, let\\'s go through each letter and count how many times \\'g\\' appears:\\n\\n1. h - not a g\\n2. u - not a g\\n3. g - this is the 1st g\\n4. g - this is the 2nd g\\n5. i - not a g\\n6. n - not a g\\n7. g - this is the 3rd g\\n8. f - not a g\\n9. a - not a g\\n10. c - not a g\\n11. e - not a g\\n\\n### Verifying the Count\\nFrom the above:\\n- 3rd letter: g (1)\\n- 4th letter: g (2)\\n- 7th letter: g (3)\\n\\nNo other letters are \\'g\\'s. \\n\\n### Potential Pitfalls\\nIt\\'s easy to miscount if you rush. For example, one might overlook the \\'g\\' at the 7th position or count the \\'g\\'s too quickly and miss one. That\\'s why it\\'s helpful to go through each letter methodically.\\n\\n### Double-Checking\\nLet me read the word again: \"huggingface\".\\n\\n- h u g (1) g (2) i n g (3) f a c e\\n\\nYes, that confirms it\\'s three \\'g\\'s.\\n\\n### Alternative Approach\\nAnother way is to remove all non-\\'g\\' letters and see what\\'s left:\\n\\nOriginal: h u g g i n g f a c e\\nRemove non-\\'g\\'s: g, g, g\\n\\nThat leaves us with three \\'g\\'s.\\n\\n### Conclusion\\nAfter carefully examining each letter in \"huggingface\", I\\'ve determined that the letter \\'g\\' appears **three times**.\\n\\n**Final Answer:** There are **3 \\'G\\'s** in \\'huggingface\\'.'}\n"
     ]
    }
   ],
   "source": [
    "from dotenv import load_dotenv\n",
    "import os\n",
    "import requests\n",
    "\n",
    "load_dotenv()\n",
    "secret = os.getenv(\"HF_API_KEY\")\n",
    "\n",
    "\n",
    "API_URL = \"https://router.huggingface.co/novita/v3/openai/chat/completions\"\n",
    "headers = {\"Authorization\": f\"Bearer {secret}\"}\n",
    "payload = {\n",
    "    \"messages\": [\n",
    "        {\n",
    "            \"role\": \"user\",\n",
    "            \"content\": \"How many 'G's in 'huggingface'?\"\n",
    "        }\n",
    "    ],\n",
    "    \"model\": \"deepseek/deepseek-v3-0324\",\n",
    "}\n",
    "\n",
    "response = requests.post(API_URL, headers=headers, json=payload)\n",
    "print(response.json()[\"choices\"][0][\"message\"])"
   ]
  },
  {
   "cell_type": "code",
   "execution_count": null,
   "id": "5c88fe49-bace-4e94-a4d8-df6d6af9548a",
   "metadata": {},
   "outputs": [],
   "source": []
  }
 ],
 "metadata": {
  "kernelspec": {
   "display_name": "p2 openclassrooms",
   "language": "python",
   "name": "projet_02_oc"
  },
  "language_info": {
   "codemirror_mode": {
    "name": "ipython",
    "version": 3
   },
   "file_extension": ".py",
   "mimetype": "text/x-python",
   "name": "python",
   "nbconvert_exporter": "python",
   "pygments_lexer": "ipython3",
   "version": "3.13.0"
  }
 },
 "nbformat": 4,
 "nbformat_minor": 5
}
